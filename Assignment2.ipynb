{
 "cells": [
  {
   "cell_type": "code",
   "execution_count": 1,
   "metadata": {},
   "outputs": [],
   "source": [
    "# install all needed packages\n",
    "from typing import Tuple\n",
    "import numpy as np\n",
    "import os\n",
    "import random\n",
    "import skimage\n",
    "from skimage import transform\n",
    "import skimage.data\n",
    "import skimage.io\n",
    "import tensorflow.keras as keras\n",
    "from tensorflow.keras.layers import Input, Conv2D, MaxPooling2D, UpSampling2D, Conv2DTranspose, Reshape\n",
    "\n",
    "# for displaying images in jupyter\n",
    "from matplotlib import pyplot as plt\n",
    "\n",
    "%matplotlib inline\n",
    "import matplotlib.pyplot as plt\n",
    "plt.rcParams['figure.figsize'] = [10, 10]"
   ]
  },
  {
   "cell_type": "markdown",
   "metadata": {},
   "source": [
    "### Random images\n"
   ]
  },
  {
   "cell_type": "code",
   "execution_count": 2,
   "metadata": {},
   "outputs": [],
   "source": [
    "def gen_random_binary_test_image_classes(height: int, width: int, nr_classes)->(np.ndarray, np.ndarray):\n",
    "    \"\"\"\n",
    "    Generate a test image and an appropriate label image with label 0 or label 1\n",
    "    Label 0 images have a lower medium grayscale value, label 1 images a higher one.\n",
    "    \n",
    "    The returned images will have shape (height, width, 1) and type uint8 to be as compatible as possible to \n",
    "    mages read from files\n",
    "    \"\"\" \n",
    "    class_id = np.random.choice(range(nr_classes))\n",
    "    value = 255.0 * class_id / nr_classes \n",
    "    \n",
    "    NOISE = 20.0\n",
    "    \n",
    "    label = np.zeros((height, width, 1), dtype=np.uint8)\n",
    "    label.fill(class_id)\n",
    "    img = np.random.normal(value, NOISE, ((height, width, 1))).astype(np.uint8)\n",
    "    \n",
    "    return img, label\n",
    "\n",
    "def gen_batch_binary_with_border(batch_size, height: int, width: int, border: int, nr_classes:int):\n",
    "    image_list = []\n",
    "    label_list = []\n",
    "    for i in range(batch_size):\n",
    "        img, label = gen_random_binary_test_image_classes(height=height, width=width, nr_classes=nr_classes)\n",
    "        if(border > 0):\n",
    "            label = label[border:-border, border:-border]\n",
    "        image_list.append(img.astype(np.float32) / 255.0)\n",
    "        label_list.append(label.astype(np.float32))\n",
    "\n",
    "    image_batch = np.array(image_list, dtype=np.float32)\n",
    "    label_batch = np.array(label_list, dtype=np.float32)\n",
    "\n",
    "    # reshape labels as this is not done in the model\n",
    "    label_batch = label_batch.reshape(batch_size, (height-2*border)*(width-2*border), 1)\n",
    "    label_batch = keras.utils.to_categorical(label_batch, num_classes=nr_classes)\n",
    "\n",
    "    return image_batch, label_batch\n",
    "\n",
    "def batch_generator_with_border(batch_size, height: int, width: int, border: int, nr_classes:int):\n",
    "    while True:\n",
    "        image_batch, label_batch = gen_batch_binary_with_border(batch_size=batch_size, \n",
    "                                                                height=height, width=width, \n",
    "                                                                border=border, nr_classes=nr_classes)\n",
    "        yield image_batch, label_batch"
   ]
  },
  {
   "cell_type": "code",
   "execution_count": 3,
   "metadata": {},
   "outputs": [],
   "source": [
    "image_batch, label_batch = gen_batch_binary_with_border(100, 128, 128, 3, 42)"
   ]
  },
  {
   "cell_type": "markdown",
   "metadata": {},
   "source": [
    "### Data Loading from dtd"
   ]
  },
  {
   "cell_type": "code",
   "execution_count": 4,
   "metadata": {},
   "outputs": [],
   "source": [
    "def load_image(folder, imgIdx: int, height: int, width: int):\n",
    "    imgPath = os.path.join(folder, \"image_{:05d}.png\".format(imgIdx))\n",
    "    labelPath = os.path.join(folder, \"label_{:05d}.png\".format(imgIdx))\n",
    "    \n",
    "    img = skimage.io.imread(imgPath, as_gray=True)\n",
    "    img =  transform.resize(img, (height, width), anti_aliasing=True).reshape((height, width,1))\n",
    "    img = (img - img.mean()) \n",
    "    img = img / np.sqrt(img.var())\n",
    "    label = skimage.io.imread(labelPath, as_gray=True)\n",
    "    label =  transform.resize(label, (height, width), anti_aliasing=True).reshape((height, width,1))\n",
    "    return img, label\n",
    "\n",
    "def load_image2(folder, imgIdx: int, height: int, width: int):\n",
    "    imgPath = os.path.join(folder, \"image_{:05d}.png\".format(imgIdx))\n",
    "    labelPath = os.path.join(folder, \"label_{:05d}.png\".format(imgIdx))\n",
    "    \n",
    "    img = skimage.io.imread(imgPath, as_gray=True)\n",
    "    img =  transform.resize(img, (height, width), anti_aliasing=True).reshape((height, width,1))\n",
    "    label = skimage.io.imread(labelPath, as_gray=True)\n",
    "    label =  transform.resize(label, (height, width), anti_aliasing=True)[0, 0]\n",
    "    return img, label"
   ]
  },
  {
   "cell_type": "code",
   "execution_count": 5,
   "metadata": {},
   "outputs": [],
   "source": [
    "def load_batch(folder, nr_classes, indices, height: int, width: int, border:int):\n",
    "    image_list = []\n",
    "    label_list = []\n",
    "    for i in indices:\n",
    "        img, lbl = load_image(folder, i, height, width)\n",
    "        if(border > 0):\n",
    "            lbl = lbl[border:-border, border:-border]\n",
    "        image_list.append(img)\n",
    "        label_list.append(lbl)\n",
    "    \n",
    "    image_batch = np.array(image_list, dtype=np.float32)\n",
    "    label_batch = np.array(label_list, dtype=np.float32)\n",
    "\n",
    "    # reshape labels as this is not done in the model\n",
    "    label_batch = label_batch.reshape(len(indices), (height-2*border)*(width-2*border), 1)*255\n",
    "    label_batch = keras.utils.to_categorical(label_batch, num_classes=nr_classes)\n",
    "    return image_batch, label_batch\n",
    "\n",
    "def load_batch2(folder, indices, height: int, width: int):\n",
    "    image_list = []\n",
    "    label_list = []\n",
    "    for i in indices:\n",
    "        img, lbl = load_image2(folder, i, height, width)\n",
    "        image_list.append(img)\n",
    "        label_list.append(lbl)\n",
    "    \n",
    "    image_batch = np.array(image_list, dtype=np.float32)\n",
    "    label_batch = np.array(label_list, dtype=np.float32)\n",
    "    \n",
    "    return image_batch, label_batch"
   ]
  },
  {
   "cell_type": "code",
   "execution_count": 6,
   "metadata": {},
   "outputs": [],
   "source": [
    "def load_batch_random_images_generator(batch_size, folder, nr_classes, height: int, width: int, border:int):\n",
    "    indices = list(range(0, 1840))\n",
    "    random.shuffle(indices)\n",
    "    i = 0\n",
    "    while True:\n",
    "        ind = indices[i:i+batch_size]\n",
    "        image_batch, label_batch = load_batch(folder, nr_classes, ind, height=height, width=width, border=border)\n",
    "        i = i + batch_size\n",
    "        i = i % len(indices)\n",
    "        yield image_batch, label_batch\n",
    "\n",
    "def load_batch_random_images_generator2(batch_size, folder, height: int, width: int):\n",
    "    indices = list(range(0, 1840))\n",
    "    random.shuffle(indices)\n",
    "    i = 0\n",
    "    while True:\n",
    "        ind = indices[i:i+batch_size]\n",
    "        image_batch, label_batch = load_batch2(folder, ind, height=height, width=width)\n",
    "        i = i + batch_size\n",
    "        i = i % len(indices)\n",
    "        yield image_batch, label_batch"
   ]
  },
  {
   "cell_type": "markdown",
   "metadata": {},
   "source": [
    "### data"
   ]
  },
  {
   "cell_type": "code",
   "execution_count": 7,
   "metadata": {},
   "outputs": [],
   "source": [
    "num_classes=48"
   ]
  },
  {
   "cell_type": "markdown",
   "metadata": {},
   "source": [
    "### Simple FCN"
   ]
  },
  {
   "cell_type": "code",
   "execution_count": 8,
   "metadata": {},
   "outputs": [],
   "source": [
    "def fcn_simple_border(input_height:int, input_width:int, nr_classes:int) -> (keras.Model, int):\n",
    "    \"\"\"\n",
    "    Create a simple fcn model for semantic segmentation with 2 classes.\n",
    "    Return both the model and the border size\n",
    "    \"\"\"\n",
    "    model = keras.Sequential()\n",
    "    border = 0;\n",
    "    \n",
    "    # we use grayscale (1-channel input)\n",
    "    \n",
    "    # (used to define input shape on the first layers)\n",
    "    model.add(keras.layers.Layer(input_shape=(input_height , input_width, 1)))\n",
    "    \n",
    "    # add 3 convolutional layers with 3x3 filters\n",
    "    model.add(keras.layers.Convolution2D(filters=4, kernel_size=3, padding='valid', activation='relu'))\n",
    "    border = border + 1\n",
    "    model.add(keras.layers.Convolution2D(filters=8, kernel_size=3, padding='valid', activation='relu'))\n",
    "    border = border + 1\n",
    "    model.add(keras.layers.Convolution2D(filters=4, kernel_size=3, padding='valid', activation='relu'))\n",
    "    border = border + 1\n",
    "    \n",
    "    # go to logits which is the number of classes and add sigmoid layer for activation\n",
    "    model.add(keras.layers.Convolution2D(filters=nr_classes, kernel_size=1, activation=None, \n",
    "                                         kernel_initializer=keras.initializers.TruncatedNormal(mean=0.0, stddev=0.001, seed=None)))\n",
    "    model.add(keras.layers.Activation('softmax'))\n",
    "    \n",
    "    # reshape so that we have a sample for each pixel\n",
    "    model.add(keras.layers.Reshape(target_shape=((input_height-2*border) * (input_width-2*border), nr_classes)))\n",
    "    \n",
    "    return model, border"
   ]
  },
  {
   "cell_type": "markdown",
   "metadata": {},
   "source": [
    "### Real Data"
   ]
  },
  {
   "cell_type": "code",
   "execution_count": 57,
   "metadata": {},
   "outputs": [],
   "source": [
    "def fcn_more_comlex_border(input_height:int, input_width:int, nr_classes:int) -> (keras.Model, int):\n",
    "    border = 0;\n",
    "    # we use grayscale (1-channel input)\n",
    "    \n",
    "    # (used to define input shape on the first layers)\n",
    "    model = keras.Sequential()\n",
    "    model.add(keras.layers.Layer(input_shape=(input_height , input_width, 1)))\n",
    "    \n",
    "    model.add(keras.layers.Convolution2D(filters=16, kernel_size=3, use_bias=True, padding='same', activation='relu'))\n",
    "    model.add(keras.layers.BatchNormalization())\n",
    "    model.add(keras.layers.MaxPooling2D(strides=2, padding='same')) \n",
    "    \n",
    "    model.add(keras.layers.Convolution2D(filters=16, kernel_size=3, use_bias=True, padding='same', activation='relu'))\n",
    "    model.add(keras.layers.BatchNormalization())\n",
    "    model.add(keras.layers.MaxPooling2D(strides=2, padding='same'))\n",
    "\n",
    "    model.add(keras.layers.Convolution2D(filters=16, kernel_size=3, use_bias=True, padding='same', activation='relu'))\n",
    "    model.add(keras.layers.BatchNormalization())\n",
    "    model.add(keras.layers.MaxPooling2D(strides=2, padding='same')) \n",
    "    \n",
    "    model.add(keras.layers.Convolution2D(filters=16, kernel_size=3, use_bias=True, padding='same', activation='relu'))\n",
    "    model.add(keras.layers.BatchNormalization())\n",
    "    model.add(keras.layers.MaxPooling2D(strides=2, padding='same'))\n",
    "    \n",
    "    model.add(keras.layers.Convolution2D(filters=24, kernel_size=3, use_bias=True, padding='same', activation='relu'))\n",
    "    model.add(keras.layers.BatchNormalization())\n",
    "    model.add(keras.layers.MaxPooling2D(strides=2, padding='same')) \n",
    "    \n",
    "    # go to logits which is the number of classes and add sigmoid layer for activation\n",
    "    model.add(keras.layers.Convolution2D(filters=nr_classes, kernel_size=1, activation=None, \n",
    "                                         kernel_initializer=keras.initializers.TruncatedNormal(mean=0.0, stddev=0.001, seed=None)))\n",
    "    model.add(keras.layers.UpSampling2D(size=(32, 32), data_format=None, interpolation='bilinear'))\n",
    "    model.add(keras.layers.Activation('softmax'))\n",
    "    \n",
    "    # reshape so that we have a sample for each pixel\n",
    "    model.add(keras.layers.Reshape(target_shape=((input_height-2*border) * (input_width-2*border), nr_classes)))\n",
    "    \n",
    "    return model, border"
   ]
  },
  {
   "cell_type": "code",
   "execution_count": 53,
   "metadata": {},
   "outputs": [],
   "source": []
  },
  {
   "cell_type": "code",
   "execution_count": 58,
   "metadata": {},
   "outputs": [
    {
     "name": "stdout",
     "output_type": "stream",
     "text": [
      "_________________________________________________________________\n",
      "Layer (type)                 Output Shape              Param #   \n",
      "=================================================================\n",
      "layer_15 (Layer)             (None, 128, 128, 1)       0         \n",
      "_________________________________________________________________\n",
      "conv2d_89 (Conv2D)           (None, 128, 128, 16)      160       \n",
      "_________________________________________________________________\n",
      "batch_normalization_v1_80 (B (None, 128, 128, 16)      64        \n",
      "_________________________________________________________________\n",
      "max_pooling2d_75 (MaxPooling (None, 64, 64, 16)        0         \n",
      "_________________________________________________________________\n",
      "conv2d_90 (Conv2D)           (None, 64, 64, 8)         1160      \n",
      "_________________________________________________________________\n",
      "batch_normalization_v1_81 (B (None, 64, 64, 8)         32        \n",
      "_________________________________________________________________\n",
      "max_pooling2d_76 (MaxPooling (None, 32, 32, 8)         0         \n",
      "_________________________________________________________________\n",
      "conv2d_91 (Conv2D)           (None, 32, 32, 12)        876       \n",
      "_________________________________________________________________\n",
      "batch_normalization_v1_82 (B (None, 32, 32, 12)        48        \n",
      "_________________________________________________________________\n",
      "max_pooling2d_77 (MaxPooling (None, 16, 16, 12)        0         \n",
      "_________________________________________________________________\n",
      "conv2d_92 (Conv2D)           (None, 16, 16, 16)        1744      \n",
      "_________________________________________________________________\n",
      "batch_normalization_v1_83 (B (None, 16, 16, 16)        64        \n",
      "_________________________________________________________________\n",
      "max_pooling2d_78 (MaxPooling (None, 8, 8, 16)          0         \n",
      "_________________________________________________________________\n",
      "conv2d_93 (Conv2D)           (None, 8, 8, 24)          3480      \n",
      "_________________________________________________________________\n",
      "batch_normalization_v1_84 (B (None, 8, 8, 24)          96        \n",
      "_________________________________________________________________\n",
      "max_pooling2d_79 (MaxPooling (None, 4, 4, 24)          0         \n",
      "_________________________________________________________________\n",
      "conv2d_94 (Conv2D)           (None, 4, 4, 48)          1200      \n",
      "_________________________________________________________________\n",
      "up_sampling2d_48 (UpSampling (None, 128, 128, 48)      0         \n",
      "_________________________________________________________________\n",
      "activation_14 (Activation)   (None, 128, 128, 48)      0         \n",
      "_________________________________________________________________\n",
      "reshape_14 (Reshape)         (None, 16384, 48)         0         \n",
      "=================================================================\n",
      "Total params: 8,924\n",
      "Trainable params: 8,772\n",
      "Non-trainable params: 152\n",
      "_________________________________________________________________\n",
      "Epoch 1/50\n",
      "30/30 [==============================] - 11s 375ms/step - loss: 3.7481 - acc: 0.0427\n",
      "Epoch 2/50\n",
      "30/30 [==============================] - 14s 471ms/step - loss: 3.6200 - acc: 0.0608\n",
      "Epoch 3/50\n",
      "30/30 [==============================] - 14s 459ms/step - loss: 3.5610 - acc: 0.0738\n",
      "Epoch 4/50\n",
      "30/30 [==============================] - 13s 450ms/step - loss: 3.5064 - acc: 0.0887\n",
      "Epoch 5/50\n",
      "30/30 [==============================] - 14s 459ms/step - loss: 3.4521 - acc: 0.1047\n",
      "Epoch 6/50\n",
      "30/30 [==============================] - 14s 456ms/step - loss: 3.4167 - acc: 0.1113\n",
      "Epoch 7/50\n",
      "30/30 [==============================] - 14s 460ms/step - loss: 3.3776 - acc: 0.1219\n",
      "Epoch 8/50\n",
      "30/30 [==============================] - 14s 453ms/step - loss: 3.3400 - acc: 0.1308\n",
      "Epoch 9/50\n",
      "30/30 [==============================] - 14s 459ms/step - loss: 3.3067 - acc: 0.1382\n",
      "Epoch 10/50\n",
      "30/30 [==============================] - 14s 455ms/step - loss: 3.2884 - acc: 0.1379\n",
      "Epoch 11/50\n",
      "30/30 [==============================] - 14s 455ms/step - loss: 3.2459 - acc: 0.1461\n",
      "Epoch 12/50\n",
      "30/30 [==============================] - 14s 461ms/step - loss: 3.2161 - acc: 0.1552\n",
      "Epoch 13/50\n",
      "30/30 [==============================] - 14s 465ms/step - loss: 3.1925 - acc: 0.1598\n",
      "Epoch 14/50\n",
      "30/30 [==============================] - 14s 451ms/step - loss: 3.1772 - acc: 0.1608\n",
      "Epoch 15/50\n",
      "30/30 [==============================] - 14s 452ms/step - loss: 3.1616 - acc: 0.1635\n",
      "Epoch 16/50\n",
      "30/30 [==============================] - 14s 453ms/step - loss: 3.1330 - acc: 0.1697\n",
      "Epoch 17/50\n",
      "30/30 [==============================] - 14s 460ms/step - loss: 3.1257 - acc: 0.1705\n",
      "Epoch 18/50\n",
      "30/30 [==============================] - 14s 453ms/step - loss: 3.1008 - acc: 0.1764\n",
      "Epoch 19/50\n",
      "30/30 [==============================] - 14s 461ms/step - loss: 3.0886 - acc: 0.1804\n",
      "Epoch 20/50\n",
      "30/30 [==============================] - 14s 460ms/step - loss: 3.0619 - acc: 0.1874\n",
      "Epoch 21/50\n",
      "30/30 [==============================] - 14s 467ms/step - loss: 3.0548 - acc: 0.1897\n",
      "Epoch 22/50\n",
      "30/30 [==============================] - 14s 462ms/step - loss: 3.0417 - acc: 0.1868\n",
      "Epoch 23/50\n",
      "30/30 [==============================] - 14s 457ms/step - loss: 3.0153 - acc: 0.1969\n",
      "Epoch 24/50\n",
      "30/30 [==============================] - 14s 460ms/step - loss: 3.0230 - acc: 0.1939\n",
      "Epoch 25/50\n",
      "30/30 [==============================] - 14s 463ms/step - loss: 3.0078 - acc: 0.1946\n",
      "Epoch 26/50\n",
      "30/30 [==============================] - 14s 454ms/step - loss: 2.9829 - acc: 0.2044\n",
      "Epoch 27/50\n",
      "30/30 [==============================] - 14s 462ms/step - loss: 2.9754 - acc: 0.2054\n",
      "Epoch 28/50\n",
      "30/30 [==============================] - 14s 464ms/step - loss: 2.9704 - acc: 0.2086\n",
      "Epoch 29/50\n",
      "30/30 [==============================] - 13s 440ms/step - loss: 2.9412 - acc: 0.2086\n",
      "Epoch 30/50\n",
      "30/30 [==============================] - 14s 455ms/step - loss: 2.9424 - acc: 0.2129\n",
      "Epoch 31/50\n",
      "30/30 [==============================] - 14s 457ms/step - loss: 2.9413 - acc: 0.2111\n",
      "Epoch 32/50\n",
      "30/30 [==============================] - 13s 449ms/step - loss: 2.9249 - acc: 0.2143\n",
      "Epoch 33/50\n",
      "30/30 [==============================] - 14s 477ms/step - loss: 2.9141 - acc: 0.2188\n",
      "Epoch 34/50\n",
      "30/30 [==============================] - 15s 488ms/step - loss: 2.9028 - acc: 0.2238\n",
      "Epoch 35/50\n",
      "30/30 [==============================] - 14s 482ms/step - loss: 2.8913 - acc: 0.2239\n",
      "Epoch 36/50\n",
      "30/30 [==============================] - 14s 467ms/step - loss: 2.8766 - acc: 0.2254\n",
      "Epoch 37/50\n",
      "30/30 [==============================] - 14s 480ms/step - loss: 2.8781 - acc: 0.2268\n",
      "Epoch 38/50\n",
      "30/30 [==============================] - 14s 469ms/step - loss: 2.8753 - acc: 0.2287\n",
      "Epoch 39/50\n",
      "30/30 [==============================] - 14s 481ms/step - loss: 2.8577 - acc: 0.2308\n",
      "Epoch 40/50\n",
      "30/30 [==============================] - 14s 471ms/step - loss: 2.8567 - acc: 0.2339\n",
      "Epoch 41/50\n",
      "30/30 [==============================] - 14s 468ms/step - loss: 2.8326 - acc: 0.2381\n",
      "Epoch 42/50\n",
      "30/30 [==============================] - 15s 490ms/step - loss: 2.8318 - acc: 0.2375\n",
      "Epoch 43/50\n",
      "30/30 [==============================] - 14s 475ms/step - loss: 2.8277 - acc: 0.2377\n",
      "Epoch 44/50\n",
      "30/30 [==============================] - 14s 470ms/step - loss: 2.8210 - acc: 0.2403\n",
      "Epoch 45/50\n",
      "30/30 [==============================] - 14s 458ms/step - loss: 2.8134 - acc: 0.2430\n",
      "Epoch 46/50\n",
      "30/30 [==============================] - 15s 490ms/step - loss: 2.8116 - acc: 0.2422\n",
      "Epoch 47/50\n",
      "30/30 [==============================] - 15s 486ms/step - loss: 2.7927 - acc: 0.2451\n",
      "Epoch 48/50\n",
      "30/30 [==============================] - 15s 500ms/step - loss: 2.7785 - acc: 0.2501\n",
      "Epoch 49/50\n",
      "30/30 [==============================] - 15s 508ms/step - loss: 2.7951 - acc: 0.2456\n",
      "Epoch 50/50\n",
      "30/30 [==============================] - 15s 495ms/step - loss: 2.7731 - acc: 0.2501\n"
     ]
    }
   ],
   "source": [
    "PATCH_HEIGHT = 128\n",
    "PATCH_WIDTH = 128\n",
    "BATCH_SIZE = 70\n",
    "EPOCHS = 50\n",
    "STEPS_PER_EPOCHS = 30\n",
    "NR_CLASSES = 48\n",
    "model, border = fcn_more_comlex_border(PATCH_HEIGHT, PATCH_WIDTH, NR_CLASSES)\n",
    "model.summary()\n",
    "model.compile(optimizer='adagrad', loss='categorical_crossentropy', metrics=['accuracy'])\n",
    "history = model.fit_generator(\n",
    "        generator=load_batch_random_images_generator(BATCH_SIZE, \"dtd_train\", NR_CLASSES, PATCH_HEIGHT, PATCH_WIDTH, border),\n",
    "        epochs=EPOCHS,\n",
    "        verbose=1,\n",
    "        steps_per_epoch=STEPS_PER_EPOCHS,\n",
    "        shuffle=False,\n",
    "        callbacks=None)"
   ]
  },
  {
   "cell_type": "code",
   "execution_count": 59,
   "metadata": {},
   "outputs": [
    {
     "data": {
      "image/png": "[encoded data removed]",
      "text/plain": [
       "<Figure size 432x288 with 1 Axes>"
      ]
     },
     "metadata": {
      "needs_background": "light"
     },
     "output_type": "display_data"
    },
    {
     "data": {
      "image/png": "[encoded data removed]",
      "text/plain": [
       "<Figure size 432x288 with 1 Axes>"
      ]
     },
     "metadata": {
      "needs_background": "light"
     },
     "output_type": "display_data"
    }
   ],
   "source": [
    "# Plot training accuracy values\n",
    "plt.plot(history.history['acc'])\n",
    "plt.title('Model accuracy')\n",
    "plt.ylabel('Accuracy')\n",
    "plt.xlabel('Epoch')\n",
    "plt.legend(['Train'], loc='upper left')\n",
    "plt.show()\n",
    "\n",
    "# Plot training loss values\n",
    "plt.plot(history.history['loss'])\n",
    "plt.title('Model loss')\n",
    "plt.ylabel('Loss')\n",
    "plt.xlabel('Epoch')\n",
    "plt.legend(['Train'], loc='upper left')\n",
    "plt.show()"
   ]
  },
  {
   "cell_type": "code",
   "execution_count": 60,
   "metadata": {},
   "outputs": [
    {
     "name": "stdout",
     "output_type": "stream",
     "text": [
      "acc: 13.11%\n"
     ]
    }
   ],
   "source": [
    "scores = model.evaluate_generator(\n",
    "    generator=load_batch_random_images_generator(184, \"dtd_val\", NR_CLASSES, PATCH_HEIGHT, PATCH_WIDTH, border),\n",
    "    steps=10)\n",
    "print(\"%s: %.2f%%\" % (model.metrics_names[1], scores[1]*100))"
   ]
  },
  {
   "cell_type": "code",
   "execution_count": 61,
   "metadata": {},
   "outputs": [
    {
     "name": "stdout",
     "output_type": "stream",
     "text": [
      "acc: 13.12%\n"
     ]
    }
   ],
   "source": [
    "scores = model.evaluate_generator(\n",
    "    generator=load_batch_random_images_generator(184, \"dtd_test\", NR_CLASSES, PATCH_HEIGHT, PATCH_WIDTH, border),\n",
    "    steps=10)\n",
    "print(\"%s: %.2f%%\" % (model.metrics_names[1], scores[1]*100))"
   ]
  }
 ],
 "metadata": {
  "kernelspec": {
   "display_name": "Python 3",
   "language": "python",
   "name": "python3"
  },
  "language_info": {
   "codemirror_mode": {
    "name": "ipython",
    "version": 3
   },
   "file_extension": ".py",
   "mimetype": "text/x-python",
   "name": "python",
   "nbconvert_exporter": "python",
   "pygments_lexer": "ipython3",
   "version": "3.7.3"
  }
 },
 "nbformat": 4,
 "nbformat_minor": 2
}
