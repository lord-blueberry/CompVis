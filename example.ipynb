{
 "cells": [
  {
   "cell_type": "code",
   "execution_count": 27,
   "metadata": {},
   "outputs": [],
   "source": [
    "import numpy as np\n",
    "\n",
    "# Define four points in 2D homogeneous coordinates.\n",
    "# First two coordinates are cartesian 2D, third coordinate is 1.\n",
    "\n",
    "a = np.array([2,1,1])\n",
    "b = np.array([5,3,1])\n",
    "c = np.array([1,4,1])\n",
    "d = np.array([3,4,1])"
   ]
  },
  {
   "cell_type": "code",
   "execution_count": 29,
   "metadata": {},
   "outputs": [],
   "source": [
    "# Line through a and b\n",
    "lab = np.cross(a,b)\n",
    "\n",
    "# Line through c and d\n",
    "lcd = np.cross(c,d)"
   ]
  },
  {
   "cell_type": "code",
   "execution_count": 30,
   "metadata": {},
   "outputs": [
    {
     "name": "stdout",
     "output_type": "stream",
     "text": [
      "Homogeneous coordinates for point e:  [-26 -16  -4]\n",
      "Homogeneous coordinates for point e:  [6.5 4.  1. ]\n",
      "Cartesian coordinates for point e:  [6.5 4. ]\n"
     ]
    }
   ],
   "source": [
    "# Intersection between the two lines\n",
    "e = np.cross(lab, lcd)\n",
    "\n",
    "print(\"Homogeneous coordinates for point e: \",e)\n",
    "e = e/e[2] # important!\n",
    "print(\"Homogeneous coordinates for point e: \",e)\n",
    "print(\"Cartesian coordinates for point e: \",e[:2])"
   ]
  },
  {
   "cell_type": "code",
   "execution_count": 35,
   "metadata": {},
   "outputs": [
    {
     "data": {
      "text/plain": [
       "(0.725, 6.775, 0.85, 4.15)"
      ]
     },
     "execution_count": 35,
     "metadata": {},
     "output_type": "execute_result"
    },
    {
     "data": {
      "image/png": "[encoded data removed]",
      "text/plain": [
       "<Figure size 432x288 with 1 Axes>"
      ]
     },
     "metadata": {},
     "output_type": "display_data"
    }
   ],
   "source": [
    "fig,ax = plt.subplots()\n",
    "ax.plot(a[0],a[1],\"k.\")\n",
    "ax.text(a[0],a[1],\"a\")\n",
    "ax.plot(b[0],b[1],\"k.\")\n",
    "ax.text(b[0],b[1],\"b\")\n",
    "ax.plot(c[0],c[1],\"k.\")\n",
    "ax.text(c[0],c[1],\"c\")\n",
    "ax.plot(d[0],d[1],\"k.\")\n",
    "ax.text(d[0],d[1],\"d\")\n",
    "ax.plot(e[0],e[1],\"bx\")\n",
    "ax.text(e[0],e[1],\"e\")\n",
    "ax.axis(\"equal\")"
   ]
  }
 ],
 "metadata": {
  "kernelspec": {
   "display_name": "Python 3",
   "language": "python",
   "name": "python3"
  },
  "language_info": {
   "codemirror_mode": {
    "name": "ipython",
    "version": 3
   },
   "file_extension": ".py",
   "mimetype": "text/x-python",
   "name": "python",
   "nbconvert_exporter": "python",
   "pygments_lexer": "ipython3",
   "version": "3.7.2"
  }
 },
 "nbformat": 4,
 "nbformat_minor": 2
}
