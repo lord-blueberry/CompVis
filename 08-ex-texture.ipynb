{
 "cells": [
  {
   "cell_type": "markdown",
   "metadata": {},
   "source": [
    "# Exercise: Features and supervised learning\n",
    "\n",
    "In this exercise we look at different methods for extracting features from images and using them for supervised learning. We well concentrate mainly on example images from textures and try to discriminate between different textures.\n",
    "\n",
    "In the first exercise we will lokk at binary local patterns and in the second exercise we will gather features from the glcm and train a classifier.\n"
   ]
  },
  {
   "cell_type": "code",
   "execution_count": null,
   "metadata": {},
   "outputs": [],
   "source": [
    "import numpy as np\n",
    "import skimage\n",
    "import skimage.data\n",
    "import skimage.io\n",
    "import skimage.future\n",
    "import skimage.segmentation\n",
    "import skimage.feature\n",
    "import sklearn.cluster\n",
    "import cv2\n",
    "\n",
    "# for displaying images in jupyter\n",
    "from matplotlib import pyplot as plt\n",
    "\n",
    "%matplotlib inline\n",
    "import matplotlib.pyplot as plt\n",
    "plt.rcParams['figure.figsize'] = [10, 10]\n",
    "#mpl.rcParams['figure.dpi']= 400"
   ]
  },
  {
   "cell_type": "markdown",
   "metadata": {},
   "source": [
    "## Exercise 1: Texture Recognition using Binary Local Patterns and Histograms\n",
    "\n",
    "In this exercise we will look at texture images from two different classes and extract the binary local patterns.\n",
    "\n",
    "We first load two images from the *describable texture database (dtd)*."
   ]
  },
  {
   "cell_type": "code",
   "execution_count": null,
   "metadata": {},
   "outputs": [],
   "source": [
    "im_1 = skimage.io.imread('dtd/images/crosshatched/crosshatched_0044.jpg')\n",
    "im_2 = skimage.io.imread('dtd/images/waffled/waffled_0029.jpg')\n",
    "\n",
    "plt.subplot(2, 1, 1)\n",
    "plt.imshow(im_1)\n",
    "plt.subplot(2, 1, 2)\n",
    "plt.imshow(im_2)"
   ]
  },
  {
   "cell_type": "markdown",
   "metadata": {},
   "source": [
    "### Use grayscale images\n",
    "\n",
    "We will only use the gray images, so we will convert them to grayscale. By default, this will turn them into float64 images if we use the ```skimage.color.rgb2gray``` function. As we want to continue to work with 8bit images, we convert them back to ubyte using ```skimage.img_as_ubyte```:"
   ]
  },
  {
   "cell_type": "code",
   "execution_count": null,
   "metadata": {},
   "outputs": [],
   "source": [
    "im_1_gray = skimage.img_as_ubyte(skimage.color.rgb2gray(im_1))\n",
    "plt.imshow(im_1_gray, cmap='gray')"
   ]
  },
  {
   "cell_type": "markdown",
   "metadata": {},
   "source": [
    "### Exercise 1.1. Convert to grayscale\n",
    "\n",
    "Do the same for the other image."
   ]
  },
  {
   "cell_type": "code",
   "execution_count": null,
   "metadata": {},
   "outputs": [],
   "source": [
    "# Solution\n",
    "im_2_gray = skimage.img_as_ubyte(skimage.color.rgb2gray(im_2))\n",
    "plt.imshow(im_2_gray, cmap='gray')"
   ]
  },
  {
   "cell_type": "markdown",
   "metadata": {},
   "source": [
    "### Exercise 1.2 Calculate the local binary patterns (LBP)\n",
    "\n",
    "Calculate the local binary patterns using the function ```skimage.feature.local_binary_pattern```. Check the description of the function for different variants of the pattern calculation. \n",
    "\n",
    "Visualize the patterns as image. What is the range of the resulting data? Do you think we could we use the values directly to distinquish between the two textures?"
   ]
  },
  {
   "cell_type": "code",
   "execution_count": null,
   "metadata": {},
   "outputs": [],
   "source": [
    "# Solution\n",
    "lbp_1_1 = skimage.feature.local_binary_pattern(im_1_gray, P=8, R=2.0, method='default')\n",
    "#feature_1 = np.stack([lbp_1_1, lbp_1_2], axis=2)\n",
    "print(lbp_1_1.shape)\n",
    "print(np.max(lbp_1_1))\n",
    "print(lbp_1_1.dtype)\n",
    "\n",
    "\n",
    "lbp_2_1 = skimage.feature.local_binary_pattern(im_2_gray, P=8, R=2.0, method='ror')\n",
    "\n",
    "plt.subplot(2, 1, 1)\n",
    "plt.imshow(lbp_1_1)\n",
    "plt.subplot(2, 1, 2)\n",
    "plt.imshow(lbp_2_1)"
   ]
  },
  {
   "cell_type": "markdown",
   "metadata": {},
   "source": [
    "### Exercise 1.3: Texture Segmentation with LBP\n",
    "\n",
    "In order to use the LBP for (texture) segmentation, we can not use the pixel values directly. So an often used approach is to use the histogram of the LBP as feature. For texture segmentation we want to calculate this histogram on a subwindow.\n",
    "\n",
    "\n",
    "#### Sliding window approach\n",
    "\n",
    "For a sliding window approach, skimage provides two utility function to calculate blocks from an image. One is ```skimage.util.view_as_blocks``` that divides the image into non-overlapping blocks and the other is ```skimage.util.view_as_windows``` that divides the image into overlapping windows. For the latter approach, we have to be careful to not generate too many windows, so in the sliding window approach we often use some step value greater than 1.\n",
    "\n",
    "Use the function ```skimage.util.view_as_blocks``` and see how to access the blocks. Plot the blocks as images.\n",
    "\n"
   ]
  },
  {
   "cell_type": "code",
   "execution_count": null,
   "metadata": {},
   "outputs": [],
   "source": [
    "# Solution\n",
    "\n",
    "blocks_1 = skimage.util.shape.view_as_blocks(im_1_gray, block_shape=(80,80))\n",
    "print(blocks_1.shape)\n",
    "\n",
    "index = 1\n",
    "for i in range(blocks_1.shape[0]):\n",
    "    for j in range(blocks_1.shape[1]):\n",
    "        plt.subplot(blocks_1.shape[0], blocks_1.shape[1], index)\n",
    "        plt.imshow(blocks_1[i,j], cmap='gray')\n",
    "        index += 1"
   ]
  },
  {
   "cell_type": "markdown",
   "metadata": {},
   "source": [
    "Try the same with the function ```skimage.util.view_as_windows```. What could be the advantage of this function over the other one?"
   ]
  },
  {
   "cell_type": "code",
   "execution_count": null,
   "metadata": {},
   "outputs": [],
   "source": [
    "# Solution\n",
    "blocks_1 = skimage.util.shape.view_as_windows(im_1_gray, window_shape=(80,80), step=(40,40))\n",
    "print(blocks_1.shape)\n",
    "\n",
    "index = 1\n",
    "for i in range(blocks_1.shape[0]):\n",
    "    for j in range(blocks_1.shape[1]):\n",
    "        plt.subplot(blocks_1.shape[0], blocks_1.shape[1], index)\n",
    "        plt.imshow(blocks_1[(i,j)], cmap='gray')\n",
    "        index += 1"
   ]
  },
  {
   "cell_type": "markdown",
   "metadata": {},
   "source": [
    "#### Histogram calculation\n",
    "Calculate the histogram (```np.histogram```) of the LBP in 2 subwindows of the first image and then in two subwindows of the second texture image and plot all four histograms. Use 255 bins for the histogram. ```np.histogram``` returns both the histogram values and the edges of the bins, there is one more edge than number of bins)\n",
    "\n",
    "Plot the resulting histograms.\n"
   ]
  },
  {
   "cell_type": "code",
   "execution_count": null,
   "metadata": {},
   "outputs": [],
   "source": [
    "# Solution\n",
    "blocks_lbp_image_1 = skimage.util.shape.view_as_windows(lbp_1_1, window_shape=(80,80), step=80)\n",
    "blocks_lbp_image_2 = skimage.util.shape.view_as_windows(lbp_2_1, window_shape=(80,80), step=80)\n",
    "\n",
    "hist_1_1, bins = np.histogram(blocks_lbp_image_1[0,0], bins=255)\n",
    "hist_1_2, _ = np.histogram(blocks_lbp_image_1[1,0], bins=255)\n",
    "hist_2_1, _ = np.histogram(blocks_lbp_image_2[0,0], bins=255)\n",
    "hist_2_2, _ = np.histogram(blocks_lbp_image_2[1,0], bins=255)"
   ]
  },
  {
   "cell_type": "code",
   "execution_count": null,
   "metadata": {},
   "outputs": [],
   "source": [
    "# Solution\n",
    "plt.subplot(2, 2, 1)\n",
    "#ax.bar(edges[:-1], frq, width=np.diff(edges), ec=\"k\", align=\"edge\")\n",
    "plt.bar(bins[:-1], hist_1_1)\n",
    "plt.subplot(2, 2, 2)\n",
    "hist_1_2[0].shape\n",
    "plt.bar(bins[:-1], hist_1_2)\n",
    "plt.subplot(2, 2, 3)\n",
    "hist_1_2[0].shape\n",
    "plt.bar(bins[:-1], hist_2_1)\n",
    "plt.subplot(2, 2, 4)\n",
    "hist_1_2[0].shape\n",
    "plt.bar(bins[:-1], hist_2_2)"
   ]
  },
  {
   "cell_type": "markdown",
   "metadata": {},
   "source": [
    "#### Histogram comparison\n",
    "\n",
    "There are different functions to compare histograms. One possibility is ```scipy.stats.chisquare``` for the so called chi square difference. Other implementation of histogram comparisons are available in OpenCV (https://docs.opencv.org/3.4/d8/dc8/tutorial_histogram_comparison.html).\n",
    "\n",
    "If you want to use the ```scipy.stats.chisquare```, it will fail if any of the histogram values are 0. This can be solved by adding 1 to the histogram.\n",
    "\n",
    "Calculate the histogram differences between histograms from the same image and the histogram from different images. \n",
    "\n",
    "Are the results as expected?\n"
   ]
  },
  {
   "cell_type": "code",
   "execution_count": null,
   "metadata": {},
   "outputs": [],
   "source": [
    "import scipy.stats\n",
    "print(scipy.stats.chisquare(hist_1_1+1, hist_1_1+1))\n",
    "print(scipy.stats.chisquare(hist_1_1+1, hist_1_2+1))\n",
    "print(scipy.stats.chisquare(hist_2_1+1, hist_2_2+1))\n",
    "print(scipy.stats.chisquare(hist_1_1+1, hist_2_1+1))\n",
    "print(scipy.stats.chisquare(hist_1_2+1, hist_2_2+1))"
   ]
  },
  {
   "cell_type": "markdown",
   "metadata": {},
   "source": [
    "## Exercise 2: Semantic Segmentation using statistical features, GLCM features and supervised learning\n",
    "\n",
    "In the next exercise we want to use a feature vector from statistical data and use it for supervised learning. For that we will again use a sliding window approach, so first we divide the images again into sliding window views. Use few windows (i.e. a large step size) first and increase the number of windows when all is implemented. Try a block size for example of 40 by 40 pixels."
   ]
  },
  {
   "cell_type": "code",
   "execution_count": null,
   "metadata": {},
   "outputs": [],
   "source": [
    "# Solution\n",
    "blocks_1 = skimage.util.shape.view_as_windows(im_1_gray, window_shape=40, step=20)\n",
    "blocks_1_flat = blocks_1.reshape(-1, blocks_1.shape[2], blocks_1.shape[3])"
   ]
  },
  {
   "cell_type": "markdown",
   "metadata": {},
   "source": [
    "### Exercise 2.1: Statistical features\n",
    "\n",
    "Calculate the mean value (```np.mean```) and the standard deviation (```np.std```) of a block. This will be our first features."
   ]
  },
  {
   "cell_type": "code",
   "execution_count": null,
   "metadata": {},
   "outputs": [],
   "source": [
    "# Solution\n",
    "# the `max` or the `median` value of each blocks.\n",
    "mean = np.mean(blocks_1_flat[0])\n",
    "std = np.std(blocks_1_flat[0])\n",
    "print(mean)\n",
    "print(std)"
   ]
  },
  {
   "cell_type": "markdown",
   "metadata": {},
   "source": [
    "### Exercise 2.2. GLCM\n",
    "\n",
    "Next we want do calculate the GLCM (using skimage.feature.greycomatrix). The matrix is a square nxn matrix, where n is the number of levels. For uint8 images n would be 256, however this is probably too large, we we use only 16 levels which can be achieved by dividing the image by 16 (usind the // operator in python for integer division).\n",
    "\n",
    "```image = blocks_1_flat[0] // 16```\n",
    "\n",
    "Calculate a matrix and indicate the correct number of levels. Check the documentation about the arguments."
   ]
  },
  {
   "cell_type": "code",
   "execution_count": null,
   "metadata": {},
   "outputs": [],
   "source": [
    "#Solution\n",
    "image = blocks_1_flat[0] // 16\n",
    "glcm = skimage.feature.greycomatrix(image, distances=[1], angles=[0], levels=16, symmetric=True, normed=False)"
   ]
  },
  {
   "cell_type": "markdown",
   "metadata": {},
   "source": [
    "#### Multiple GLCMs\n",
    "It is possible to calculate different GLCMs for different pixel neighborhoods and different orientations. Change the arguments to calculate GLCMs for the distances 1 and 2 pixels and for horizontal and vertical orientations."
   ]
  },
  {
   "cell_type": "code",
   "execution_count": null,
   "metadata": {},
   "outputs": [],
   "source": [
    "# Solution\n",
    "glcm = skimage.feature.greycomatrix(image, distances=[1,2], angles=[0, np.pi / 2.0], levels=16, symmetric=True, normed=False)\n"
   ]
  },
  {
   "cell_type": "markdown",
   "metadata": {},
   "source": [
    "### Exercise 2.3 Features\n",
    "#### Properties from GLCMs\n",
    "\n",
    "```skimage.feature.greycoprops``` allows to calculate different features from the GLCM such as contrast and dissimilarity. The full list of supported features is\n",
    "\n",
    "```['contrast', 'dissimilarity', 'homogeneity', 'energy', 'correlation', 'ASM']```\n",
    "\n",
    "Calculate those features and print them."
   ]
  },
  {
   "cell_type": "code",
   "execution_count": null,
   "metadata": {},
   "outputs": [],
   "source": [
    "# Solution\n",
    "for prop in ['contrast', 'dissimilarity', 'homogeneity', 'energy', 'correlation', 'ASM']:\n",
    "    print(skimage.feature.greycoprops(glcm, prop=prop))"
   ]
  },
  {
   "cell_type": "markdown",
   "metadata": {},
   "source": [
    "#### Feature calculation\n",
    "Define a function that takes an input image and calculates a feature vector from it."
   ]
  },
  {
   "cell_type": "code",
   "execution_count": null,
   "metadata": {},
   "outputs": [],
   "source": [
    "# Solution (part)\n",
    "def calc_features(image: np.ndarray):\n",
    "    features = np.asarray([np.mean(image), np.std(image)])\n",
    "    glcm = skimage.feature.greycomatrix(image, [1,2], [0, np.pi / 2], levels=16, symmetric=True, normed=False)\n",
    "    for prop in ['contrast', 'dissimilarity', 'homogeneity', 'energy', 'correlation', 'ASM']:\n",
    "        features = np.concatenate((features, skimage.feature.greycoprops(glcm, prop=prop).flatten()))\n",
    "    return features\n",
    "f = calc_features(blocks_1_flat[0] // 16)\n",
    "print(f.shape)\n"
   ]
  },
  {
   "cell_type": "markdown",
   "metadata": {},
   "source": [
    "Calculate the features for every window in the image and put them together to a large vector of features.\n"
   ]
  },
  {
   "cell_type": "code",
   "execution_count": null,
   "metadata": {},
   "outputs": [],
   "source": [
    "# Solution\n",
    "f = [calc_features(image // 16) for image in blocks_1_flat]\n",
    "data = np.stack(f, axis=0)\n"
   ]
  },
  {
   "cell_type": "markdown",
   "metadata": {},
   "source": [
    "#### Complete the data sets for training\n",
    "For supervised learning, we need a label for each feature, lets assign the first image the label 0 and the second image the label 1. Put together a label vector for the data set 1 and then put together the features and labels for the data set 2. Finally concatenate both data sets and labels together."
   ]
  },
  {
   "cell_type": "code",
   "execution_count": null,
   "metadata": {},
   "outputs": [],
   "source": [
    "# Solution\n",
    "# generate dataset suitable for the supervised learning methods in sklearn\n",
    "blocks_1 = skimage.util.shape.view_as_windows(im_1_gray, window_shape=40, step=20)\n",
    "blocks_1_flat = blocks_1.reshape(-1, blocks_1.shape[2], blocks_1.shape[3])\n",
    "f_1 = [calc_features(image // 16) for image in blocks_1_flat]\n",
    "data_1 = np.stack(f_1, axis=0)\n",
    "label_1 = np.empty(data_1.shape[0])\n",
    "label_1.fill(0)\n",
    "\n",
    "blocks_2 = skimage.util.shape.view_as_windows(im_2_gray, window_shape=40, step=20)\n",
    "blocks_2_flat = blocks_2.reshape(-1, blocks_2.shape[2], blocks_2.shape[3])\n",
    "f_2 = [calc_features(image // 16) for image in blocks_2_flat]\n",
    "data_2 = np.stack(f_2, axis=0)\n",
    "label_2 = np.empty(data_2.shape[0])\n",
    "label_2.fill(1)\n",
    "\n",
    "# create a full data set\n",
    "data = np.concatenate([data_1, data_2])\n",
    "label = np.concatenate([label_1, label_2])\n",
    "\n",
    "\n"
   ]
  },
  {
   "cell_type": "code",
   "execution_count": null,
   "metadata": {},
   "outputs": [],
   "source": [
    "print(data.shape, label.shape)"
   ]
  },
  {
   "cell_type": "markdown",
   "metadata": {},
   "source": [
    "### 2.4: Supervised learning\n",
    "\n",
    "In order to use any of the available supervised learning approaches, we *should* normalize the data (read *must* :-)). There is a function ```sklearn.preprocessing.normalize``` that can do that, alternatively we could normalize the features to be in the range between 0 and 1 when we put then together. \n",
    "\n",
    "When using ```sklearn.preprocessing.normalize```, we do not want to normalize individual feature vector (axis=1, the default), but along all values of a feature (axis = 0). So the call should be\n",
    "\n",
    "```data_norm = sklearn.preprocessing.normalize(data, axis=0)```\n",
    "\n",
    "Also our data is not shuffled randomly, which might impact the result for some approaches. We can shuffle a data set and the label together using \n",
    "\n",
    "```sklearn.utils.shuffle(data, label)```.\n"
   ]
  },
  {
   "cell_type": "code",
   "execution_count": null,
   "metadata": {},
   "outputs": [],
   "source": [
    "# Solution\n",
    "data_norm = sklearn.preprocessing.normalize(data, axis=0)\n",
    "# shuffle the data sets\n",
    "data_s, label_s = sklearn.utils.shuffle(data_norm, label)"
   ]
  },
  {
   "cell_type": "markdown",
   "metadata": {},
   "source": [
    "#### Classifiers\n",
    "\n",
    "We are finally ready to train a classifier on the data. We will use a decision tree and a support vector machine. The decision tree is implemented in \n",
    "\n",
    "```dtc = sklearn.tree.DecisionTreeClassifier()```\n",
    "\n",
    "which will return a classifier object that has the member function fit\n",
    "\n",
    "```dtc.fit(data_s, label_s)```\n",
    "\n",
    "There a different variants of support vector machines in the package sklearn.svm. For our problem, we can use the LinearSVC:\n",
    "\n",
    "```svm = sklearn.svm.LinearSVC()```\n",
    "\n",
    "Train both classifiers and predict the (training) data using \n",
    "\n",
    "```dtc.predict(data_s)```.\n",
    "\n",
    "How good is the result? How do we evaluate the result?"
   ]
  },
  {
   "cell_type": "code",
   "execution_count": null,
   "metadata": {},
   "outputs": [],
   "source": [
    "#Solution\n",
    "# use a decision tree classifier\n",
    "dtc = sklearn.tree.DecisionTreeClassifier()\n",
    "dtc.fit(data_s, label_s)\n",
    "# prediction\n",
    "labels_p = dtc.predict(data_s)\n",
    "sklearn.metrics.confusion_matrix(label_s, labels_p)"
   ]
  },
  {
   "cell_type": "code",
   "execution_count": null,
   "metadata": {
    "scrolled": true
   },
   "outputs": [],
   "source": [
    "# Solution\n",
    "svm = sklearn.svm.LinearSVC()\n",
    "svm.fit(data_s, label_s)\n",
    "labels_p = svm.predict(data_s)\n",
    "sklearn.metrics.confusion_matrix(label_s, labels_p)\n"
   ]
  },
  {
   "cell_type": "markdown",
   "metadata": {},
   "source": [
    "### Exercise 3 (optional): Further evaluation\n",
    "\n",
    "- The results are probably quite good. How can we look at some of the data to understand the results better?\n",
    "- Try loading two another images from the same textures and run the classification. Does it still work?"
   ]
  },
  {
   "cell_type": "code",
   "execution_count": null,
   "metadata": {},
   "outputs": [],
   "source": [
    "plt.scatter(data_s[:,0], data_s[:,3], c=label_s)"
   ]
  },
  {
   "cell_type": "code",
   "execution_count": null,
   "metadata": {},
   "outputs": [],
   "source": []
  }
 ],
 "metadata": {
  "kernelspec": {
   "display_name": "Python 3",
   "language": "python",
   "name": "python3"
  },
  "language_info": {
   "codemirror_mode": {
    "name": "ipython",
    "version": 3
   },
   "file_extension": ".py",
   "mimetype": "text/x-python",
   "name": "python",
   "nbconvert_exporter": "python",
   "pygments_lexer": "ipython3",
   "version": "3.7.3"
  }
 },
 "nbformat": 4,
 "nbformat_minor": 2
}
